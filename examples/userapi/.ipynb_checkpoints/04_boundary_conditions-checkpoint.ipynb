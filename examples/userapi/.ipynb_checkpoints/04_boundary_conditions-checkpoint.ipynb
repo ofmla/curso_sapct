{
 "cells": [
  {
   "cell_type": "markdown",
   "metadata": {},
   "source": [
    "# Boundary conditions tutorial"
   ]
  },
  {
   "cell_type": "markdown",
   "metadata": {},
   "source": [
    "This tutorial aims to demonstrate how users can implement various boundary conditions in Devito, building on concepts introduced in previous tutorials. Over the course of this notebook we will go over the implementation of both free surface boundary conditions and perfectly-matched layers (PMLs) in the context of the first-order acoustic wave equation. This tutorial is based on a simplified version of the method outlined in Liu and Tao's 1997 paper (https://doi.org/10.1121/1.419657).\n",
    "\n",
    "We will set up our domain with PMLs along the left, right, and bottom edges, and free surface boundaries at the top as shown below.\n",
    "\n",
    "<img src=\"figures/boundary_conditions.png\" style=\"width: 220px;\"/>\n",
    "\n",
    "Note that whilst in practice we would want the PML tapers to overlap in the corners, this requires additional subdomains. As such, they are omitted for simplicity.\n",
    "\n",
    "As always, we will begin by specifying some parameters for our `Grid`:"
   ]
  },
  {
   "cell_type": "code",
   "execution_count": 1,
   "metadata": {},
   "outputs": [],
   "source": [
    "%matplotlib inline\n",
    "\n",
    "shape = (101, 101)\n",
    "extent = (2000., 2000.)\n",
    "nbpml = 10  # Number of PMLs on each side"
   ]
  },
  {
   "cell_type": "markdown",
   "metadata": {},
   "source": [
    "We will need to use subdomains to accomodate the modified equations in the PML regions. As `Grid` objects cannot have subdomains added retroactively, we must define our subdomains beforehand."
   ]
  },
  {
   "cell_type": "code",
   "execution_count": 2,
   "metadata": {},
   "outputs": [],
   "source": [
    "from devito import SubDomain\n",
    "\n",
    "s_o = 6  # Space order\n",
    "\n",
    "class MainDomain(SubDomain):  # Main section with no damping\n",
    "    name = 'main'\n",
    "    def __init__(self, PMLS, S_O):\n",
    "        super().__init__()\n",
    "        self.PMLS = PMLS\n",
    "        self.S_O = S_O\n",
    "\n",
    "    def define(self, dimensions):\n",
    "        x, y = dimensions\n",
    "        return {x: ('middle', self.PMLS, self.PMLS),\n",
    "                y: ('middle', self.S_O//2, self.PMLS)}\n",
    "\n",
    "\n",
    "class Left(SubDomain):  # Left PML region\n",
    "    name = 'left'\n",
    "    def __init__(self, PMLS):\n",
    "        super().__init__()\n",
    "        self.PMLS = PMLS\n",
    "\n",
    "    def define(self, dimensions):\n",
    "        x, y = dimensions\n",
    "        return {x: ('left', self.PMLS), y: y}\n",
    "\n",
    "\n",
    "class Right(SubDomain):  # Right PML region\n",
    "    name = 'right'\n",
    "    def __init__(self, PMLS):\n",
    "        super().__init__()\n",
    "        self.PMLS = PMLS\n",
    "\n",
    "    def define(self, dimensions):\n",
    "        x, y = dimensions\n",
    "        return {x: ('right', self.PMLS), y: y}\n",
    "    \n",
    "class Base(SubDomain):  # Base PML region\n",
    "    name = 'base'\n",
    "    def __init__(self, PMLS):\n",
    "        super().__init__()\n",
    "        self.PMLS = PMLS\n",
    "\n",
    "    def define(self, dimensions):\n",
    "        x, y = dimensions\n",
    "        return {x: ('middle', self.PMLS, self.PMLS), y: ('right', self.PMLS)}\n",
    "\n",
    "class FreeSurface(SubDomain):  # Free surface region\n",
    "    name = 'freesurface'\n",
    "    def __init__(self, PMLS, S_O):\n",
    "        super().__init__()\n",
    "        self.PMLS = PMLS\n",
    "        self.S_O = S_O\n",
    "        \n",
    "    def define(self, dimensions):\n",
    "        x, y = dimensions\n",
    "        return {x: ('middle', self.PMLS, self.PMLS), y: ('left', self.S_O//2)}\n",
    "\n",
    "main_domain = MainDomain(nbpml, s_o)\n",
    "left = Left(nbpml)\n",
    "right = Right(nbpml)\n",
    "base = Base(nbpml)\n",
    "freesurface = FreeSurface(nbpml, s_o)"
   ]
  },
  {
   "cell_type": "markdown",
   "metadata": {},
   "source": [
    "And create the grid, attaching our subdomains:"
   ]
  },
  {
   "cell_type": "code",
   "execution_count": 3,
   "metadata": {},
   "outputs": [],
   "source": [
    "from devito import Grid\n",
    "\n",
    "grid = Grid(shape=shape, extent=extent,\n",
    "            subdomains=(main_domain, left, right, base, freesurface))\n",
    "x, y = grid.dimensions"
   ]
  },
  {
   "cell_type": "markdown",
   "metadata": {},
   "source": [
    "We can then begin to specify our problem starting with some parameters."
   ]
  },
  {
   "cell_type": "code",
   "execution_count": 4,
   "metadata": {},
   "outputs": [],
   "source": [
    "density = 1.  # 1000kg/m^3\n",
    "velocity = 4.  # km/s\n",
    "gamma = 0.0002  # Absorption coefficient"
   ]
  },
  {
   "cell_type": "markdown",
   "metadata": {},
   "source": [
    "We also need a `TimeFunction` object for each of our wavefields. As particle velocity is a vector, we will choose a `VectorTimeFunction` object to encapsulate it."
   ]
  },
  {
   "cell_type": "code",
   "execution_count": 5,
   "metadata": {},
   "outputs": [],
   "source": [
    "from devito import TimeFunction, VectorTimeFunction, NODE\n",
    "\n",
    "p = TimeFunction(name='p', grid=grid, time_order=1,\n",
    "                 space_order=s_o, staggered=NODE)\n",
    "v = VectorTimeFunction(name='v', grid=grid, time_order=1,\n",
    "                       space_order=s_o)"
   ]
  },
  {
   "cell_type": "markdown",
   "metadata": {},
   "source": [
    "A `VectorTimeFunction` is near identical in function to a standard `TimeFunction`, albeit with a field for each grid dimension. The fields associated with each component can be accessed as follows:"
   ]
  },
  {
   "cell_type": "code",
   "execution_count": 6,
   "metadata": {},
   "outputs": [
    {
     "name": "stdout",
     "output_type": "stream",
     "text": [
      "[[[0. 0. 0. ... 0. 0. 0.]\n",
      "  [0. 0. 0. ... 0. 0. 0.]\n",
      "  [0. 0. 0. ... 0. 0. 0.]\n",
      "  ...\n",
      "  [0. 0. 0. ... 0. 0. 0.]\n",
      "  [0. 0. 0. ... 0. 0. 0.]\n",
      "  [0. 0. 0. ... 0. 0. 0.]]\n",
      "\n",
      " [[0. 0. 0. ... 0. 0. 0.]\n",
      "  [0. 0. 0. ... 0. 0. 0.]\n",
      "  [0. 0. 0. ... 0. 0. 0.]\n",
      "  ...\n",
      "  [0. 0. 0. ... 0. 0. 0.]\n",
      "  [0. 0. 0. ... 0. 0. 0.]\n",
      "  [0. 0. 0. ... 0. 0. 0.]]]\n"
     ]
    }
   ],
   "source": [
    "print(v[0].data)  # Print the data attribute associated with the x component of v"
   ]
  },
  {
   "cell_type": "markdown",
   "metadata": {},
   "source": [
    "You may have also noticed the keyword `staggered` in the arguments when we created these functions. As one might expect, these are used for specifying where derivatives should be evaluated relative to the grid, as required for implementing formulations such as the first-order acoustic wave equation or P-SV elastic. Passing a function `staggered=NODE` specifies that its derivatives should be evaluated at the node. One can also pass `staggered=x` or `staggered=y` to stagger the grid by half a spacing in those respective directions. Additionally, a tuple of dimensions can be passed to stagger in multiple directions (e.g. `staggered=(x, y)`). `VectorTimeFunction` objects have their associated grids staggered by default.\n",
    "\n",
    "We will also need to define a field for integrating pressure over time:"
   ]
  },
  {
   "cell_type": "code",
   "execution_count": 7,
   "metadata": {},
   "outputs": [],
   "source": [
    "p_i = TimeFunction(name='p_i', grid=grid, time_order=1,\n",
    "                   space_order=1, staggered=NODE)"
   ]
  },
  {
   "cell_type": "markdown",
   "metadata": {},
   "source": [
    "Next we prepare the source term:"
   ]
  },
  {
   "cell_type": "code",
   "execution_count": 8,
   "metadata": {},
   "outputs": [],
   "source": [
    "import numpy as np\n",
    "from examples.seismic import TimeAxis, RickerSource\n",
    "\n",
    "t0 = 0.  # Simulation starts at t=0\n",
    "tn = 400.  # Simulation length in ms\n",
    "dt = 1e2*(1. / np.sqrt(2.)) / 60.  # Time step\n",
    "\n",
    "time_range = TimeAxis(start=t0, stop=tn, step=dt)\n",
    "\n",
    "f0 = 0.02\n",
    "src = RickerSource(name='src', grid=grid, f0=f0,\n",
    "                   npoint=1, time_range=time_range)\n",
    "\n",
    "# Position source centrally in all dimensions\n",
    "src.coordinates.data[0, :] = 1000."
   ]
  },
  {
   "cell_type": "code",
   "execution_count": 9,
   "metadata": {
    "tags": [
     "nbval-skip"
    ]
   },
   "outputs": [
    {
     "data": {
      "image/png": "[encoded data removed]",
      "text/plain": [
       "<Figure size 800x600 with 1 Axes>"
      ]
     },
     "metadata": {},
     "output_type": "display_data"
    }
   ],
   "source": [
    "src.show()"
   ]
  },
  {
   "cell_type": "markdown",
   "metadata": {},
   "source": [
    "For our PMLs, we will need some damping parameter. In this case, we will use a quadratic taper over the absorbing regions on the left and right sides of the domain."
   ]
  },
  {
   "cell_type": "code",
   "execution_count": 10,
   "metadata": {},
   "outputs": [],
   "source": [
    "# Damping parameterisation\n",
    "d_l = (1-0.1*x)**2  # Left side\n",
    "d_r = (1-0.1*(grid.shape[0]-1-x))**2  # Right side\n",
    "d_b = (1-0.1*(grid.shape[1]-1-y))**2  # Base edge"
   ]
  },
  {
   "cell_type": "markdown",
   "metadata": {},
   "source": [
    "Now for our main domain equations:"
   ]
  },
  {
   "cell_type": "code",
   "execution_count": 11,
   "metadata": {},
   "outputs": [],
   "source": [
    "from devito import Eq, grad, div\n",
    "\n",
    "eq_v = Eq(v.forward, v - dt*grad(p)/density,\n",
    "          subdomain=grid.subdomains['main'])\n",
    "\n",
    "eq_p = Eq(p.forward, p - dt*velocity**2*density*div(v.forward),\n",
    "           subdomain=grid.subdomains['main'])"
   ]
  },
  {
   "cell_type": "markdown",
   "metadata": {},
   "source": [
    "We will also need to set up `p_i` to calculate the integral of `p` over time for out PMLs:"
   ]
  },
  {
   "cell_type": "code",
   "execution_count": 12,
   "metadata": {},
   "outputs": [],
   "source": [
    "eq_p_i = Eq(p_i.forward, p_i + dt*(p.forward+p)/2)"
   ]
  },
  {
   "cell_type": "markdown",
   "metadata": {},
   "source": [
    "And add the equations for our damped region:"
   ]
  },
  {
   "cell_type": "code",
   "execution_count": 13,
   "metadata": {},
   "outputs": [],
   "source": [
    "# Left side\n",
    "eq_v_damp_left = Eq(v.forward,\n",
    "                    (1-d_l)*v - dt*grad(p)/density,\n",
    "                    subdomain=grid.subdomains['left'])\n",
    "\n",
    "eq_p_damp_left = Eq(p.forward,\n",
    "                    (1-gamma*velocity**2*dt-d_l*dt)*p\n",
    "                    - d_l*gamma*velocity**2*p_i\n",
    "                    - dt*velocity**2*density*div(v.forward),\n",
    "                    subdomain=grid.subdomains['left'])\n",
    "\n",
    "# Right side\n",
    "eq_v_damp_right = Eq(v.forward,\n",
    "                     (1-d_r)*v - dt*grad(p)/density,\n",
    "                     subdomain=grid.subdomains['right'])\n",
    "\n",
    "eq_p_damp_right = Eq(p.forward,\n",
    "                     (1-gamma*velocity**2*dt-d_r*dt)*p\n",
    "                     - d_r*gamma*velocity**2*p_i\n",
    "                     - dt*velocity**2*density*div(v.forward),\n",
    "                     subdomain=grid.subdomains['right'])\n",
    "\n",
    "# Base edge\n",
    "eq_v_damp_base = Eq(v.forward,\n",
    "                    (1-d_b)*v - dt*grad(p)/density,\n",
    "                    subdomain=grid.subdomains['base'])\n",
    "\n",
    "eq_p_damp_base = Eq(p.forward,\n",
    "                    (1-gamma*velocity**2*dt-d_b*dt)*p\n",
    "                    - d_b*gamma*velocity**2*p_i\n",
    "                    - dt*velocity**2*density*div(v.forward),\n",
    "                    subdomain=grid.subdomains['base'])"
   ]
  },
  {
   "cell_type": "markdown",
   "metadata": {},
   "source": [
    "We next add our free surface boundary conditions. Note that this implementation is based off that found in `examples/seismic/acoustic/operators.py`."
   ]
  },
  {
   "cell_type": "code",
   "execution_count": 14,
   "metadata": {},
   "outputs": [],
   "source": [
    "from devito import sign, norm\n",
    "from devito.symbolics import retrieve_functions, INT\n",
    "\n",
    "def free_surface_top(eq, subdomain, update):\n",
    "    \"\"\"\n",
    "    Modify a stencil such that it is folded back on\n",
    "    itself rather than leaving the model domain. This is\n",
    "    achieved by replacing the symbolic indices for some\n",
    "    function of those indices. Depending on how this is\n",
    "    done, this can be used to implement a pressure or\n",
    "    velocity free-surface. This is the MPI-safe method\n",
    "    of implementing a free-surface boundary condition\n",
    "    in Devito.\n",
    "    \n",
    "    Parameters\n",
    "    ----------\n",
    "    eq : Eq\n",
    "        The update stencil to modify\n",
    "    subdomain : FreeSurface\n",
    "        The subdomain in which the modification is\n",
    "        applied\n",
    "    update : str\n",
    "        The field being updated: 'pressure' or 'velocity'\n",
    "    \"\"\"\n",
    "    lhs, rhs = eq.evaluate.args\n",
    "    \n",
    "    # Get vertical subdimension and its parent\n",
    "    yfs = subdomain.dimensions[-1]\n",
    "    y = yfs.parent\n",
    "    \n",
    "    # Functions present in stencil\n",
    "    funcs = retrieve_functions(rhs)\n",
    "    mapper = {}\n",
    "    for f in funcs:\n",
    "        # Get the y index\n",
    "        yind = f.indices[-1]\n",
    "        if (yind - y).as_coeff_Mul()[0] < 0:\n",
    "            # If point position in stencil is negative\n",
    "            # Substitute the dimension for its subdomain companion\n",
    "            # Get the symbolic sign of this\n",
    "            s = sign(yind.subs({y: yfs, y.spacing: 1}))\n",
    "            if update == 'velocity':\n",
    "                # Antisymmetric mirror\n",
    "                # Substitute where index is negative for -ve where index is positive\n",
    "                mapper.update({f: s*f.subs({yind: INT(abs(yind))})})\n",
    "            elif update == 'pressure':\n",
    "                # Symmetric mirror\n",
    "                # Substitute where index is negative for +ve where index is positive\n",
    "                mapper.update({f: f.subs({yind: INT(abs(yind))})})\n",
    "    return Eq(lhs, rhs.subs(mapper), subdomain=subdomain)\n",
    "    \n",
    "fs_p = free_surface_top(eq_p, grid.subdomains['freesurface'], 'pressure')\n",
    "fs_v = free_surface_top(eq_v, grid.subdomains['freesurface'], 'velocity')"
   ]
  },
  {
   "cell_type": "markdown",
   "metadata": {},
   "source": [
    "And our source terms:"
   ]
  },
  {
   "cell_type": "code",
   "execution_count": 15,
   "metadata": {},
   "outputs": [],
   "source": [
    "src_term = src.inject(field=p.forward, expr=src)"
   ]
  },
  {
   "cell_type": "markdown",
   "metadata": {},
   "source": [
    "Construct our operator and run:"
   ]
  },
  {
   "cell_type": "code",
   "execution_count": 16,
   "metadata": {
    "tags": [
     "nbval-ignore-output"
    ]
   },
   "outputs": [
    {
     "name": "stderr",
     "output_type": "stream",
     "text": [
      "Operator `Kernel` ran in 0.03 s\n"
     ]
    },
    {
     "data": {
      "text/plain": [
       "PerformanceSummary([(PerfKey(name='section0', rank=None),\n",
       "                     PerfEntry(time=1e-06, gflopss=0.0, gpointss=0.0, oi=0.0, ops=0, itershapes=[])),\n",
       "                    (PerfKey(name='section1', rank=None),\n",
       "                     PerfEntry(time=0.00473600000000001, gflopss=0.0, gpointss=0.0, oi=0.0, ops=0, itershapes=[])),\n",
       "                    (PerfKey(name='section2', rank=None),\n",
       "                     PerfEntry(time=0.004262999999999986, gflopss=0.0, gpointss=0.0, oi=0.0, ops=0, itershapes=[])),\n",
       "                    (PerfKey(name='section3', rank=None),\n",
       "                     PerfEntry(time=0.004487999999999997, gflopss=0.0, gpointss=0.0, oi=0.0, ops=0, itershapes=[])),\n",
       "                    (PerfKey(name='section4', rank=None),\n",
       "                     PerfEntry(time=0.0046530000000000096, gflopss=0.0, gpointss=0.0, oi=0.0, ops=0, itershapes=[])),\n",
       "                    (PerfKey(name='section5', rank=None),\n",
       "                     PerfEntry(time=0.0022519999999999984, gflopss=0.0, gpointss=0.0, oi=0.0, ops=0, itershapes=[])),\n",
       "                    (PerfKey(name='section6', rank=None),\n",
       "                     PerfEntry(time=0.0003830000000000019, gflopss=0.0, gpointss=0.0, oi=0.0, ops=0, itershapes=[]))])"
      ]
     },
     "execution_count": 16,
     "metadata": {},
     "output_type": "execute_result"
    }
   ],
   "source": [
    "from devito import Operator\n",
    "\n",
    "op = Operator([eq_v, fs_v, eq_v_damp_left, eq_v_damp_base, eq_v_damp_right,\n",
    "               eq_p, fs_p, eq_p_damp_left, eq_p_damp_base, eq_p_damp_right,\n",
    "               eq_p_i]\n",
    "               + src_term)\n",
    "\n",
    "op(time=time_range.num-1)"
   ]
  },
  {
   "cell_type": "markdown",
   "metadata": {},
   "source": [
    "It is important to remember that the ordering of equations when an `Operator` is created dictates the order of loops within the generated c code. As such, the `v` equations all need to be placed before the `p` ones otherwise the operator will attempt to use the updated `v` fields before they have been updated.\n",
    "\n",
    "Now let's plot the wavefield."
   ]
  },
  {
   "cell_type": "code",
   "execution_count": 17,
   "metadata": {
    "tags": [
     "nbval-skip"
    ]
   },
   "outputs": [
    {
     "data": {
      "image/png": "[encoded data removed]",
      "text/plain": [
       "<Figure size 800x600 with 2 Axes>"
      ]
     },
     "metadata": {},
     "output_type": "display_data"
    }
   ],
   "source": [
    "import matplotlib.pyplot as plt\n",
    "\n",
    "scale = np.max(p.data[1])\n",
    "plt.imshow(p.data[1].T/scale,\n",
    "           origin=\"upper\",\n",
    "           vmin=-1, vmax=1,\n",
    "           extent=[0, grid.extent[0], grid.extent[1], 0],\n",
    "           cmap='seismic')\n",
    "plt.colorbar()\n",
    "plt.xlabel(\"x (m)\")\n",
    "plt.ylabel(\"y (m)\")\n",
    "plt.show()"
   ]
  },
  {
   "cell_type": "markdown",
   "metadata": {},
   "source": [
    "As we can see, the wave is effectively damped at the edge of the domain by the 10 layers of PMLs, with diminished reflections back into the domain."
   ]
  },
  {
   "cell_type": "code",
   "execution_count": 18,
   "metadata": {},
   "outputs": [],
   "source": [
    "assert(np.isclose(norm(v[0]), 0.1955, atol=0, rtol=1e-4))\n",
    "assert(np.isclose(norm(v[1]), 0.4596, atol=0, rtol=1e-4))\n",
    "assert(np.isclose(norm(p), 2.0043, atol=0, rtol=1e-4))"
   ]
  }
 ],
 "metadata": {
  "celltoolbar": "Tags",
  "kernelspec": {
   "display_name": "devito_dev",
   "language": "python",
   "name": "devito_dev"
  },
  "language_info": {
   "codemirror_mode": {
    "name": "ipython",
    "version": 3
   },
   "file_extension": ".py",
   "mimetype": "text/x-python",
   "name": "python",
   "nbconvert_exporter": "python",
   "pygments_lexer": "ipython3",
   "version": "3.9.16"
  }
 },
 "nbformat": 4,
 "nbformat_minor": 4
}
